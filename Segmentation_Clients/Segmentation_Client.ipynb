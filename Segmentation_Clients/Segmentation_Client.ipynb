{
 "cells": [
  {
   "cell_type": "markdown",
   "id": "b0be813d-591c-4185-af3d-1a6b44eca059",
   "metadata": {},
   "source": [
    "## <center> **Segmentation des Clients**\n",
    "### <center> **Réalisé par Elauïne BERNARD**\n",
    "### <center> **Economètre-Statisticienne / Data Scientist**"
   ]
  },
  {
   "cell_type": "markdown",
   "id": "706edf4e-ee56-4dfe-9ceb-dbeddf3a6e30",
   "metadata": {},
   "source": [
    "### **Contexte**\n",
    "Une entreprise de commerce en ligne souhaite mieux comprendre ses clients afin d'améliorer ses stratégies marketing. Actuellement, les clients sont variés en termes d'âge, de comportements d'achat, de durée d'utilisation de la plateforme, et de satisfaction. Cependant, aucune segmentation claire n'a été réalisée pour personnaliser les offres ou les campagnes publicitaires."
   ]
  },
  {
   "cell_type": "markdown",
   "id": "48dd0ff1-a94b-4290-af8f-bae66da85151",
   "metadata": {},
   "source": [
    "### **Objectif**\n",
    "Segmenter nos clients en groupes distincts afin de mieux personnaliser nos offres et optimiser nos campagnes marketing."
   ]
  },
  {
   "cell_type": "markdown",
   "id": "dc055a53-e3d7-41bf-8c63-4c5eadec2543",
   "metadata": {},
   "source": [
    "### **Plan**\n",
    "1. Importation et Traitement des données\n",
    "2. Analyse Exploratoire des données\n",
    "3. Feature Engineering\n",
    "4. Clustering"
   ]
  },
  {
   "cell_type": "markdown",
   "id": "f608e8ad-b83e-41d8-9d85-5b60e10c8d97",
   "metadata": {},
   "source": [
    "##### Importation des Packages"
   ]
  },
  {
   "cell_type": "code",
   "execution_count": 153,
   "id": "21715dc6-c963-4858-b2ab-977585bcf40d",
   "metadata": {},
   "outputs": [],
   "source": [
    "import os\n",
    "import pandas as pd\n",
    "import matplotlib.pyplot as plt\n",
    "from sklearn.preprocessing import StandardScaler, OneHotEncoder\n",
    "from sklearn.compose import ColumnTransformer\n",
    "from scipy.cluster.vq import kmeans, vq"
   ]
  },
  {
   "cell_type": "markdown",
   "id": "047ed63d-7e15-47c2-a6fa-b6f7b2a9669d",
   "metadata": {},
   "source": [
    "#### **1- Importation et Traitement des données**"
   ]
  },
  {
   "cell_type": "markdown",
   "id": "1472fd7f-1d38-4bed-9de4-0cb1049189ab",
   "metadata": {},
   "source": [
    "##### Importation des données"
   ]
  },
  {
   "cell_type": "code",
   "execution_count": 5,
   "id": "a05f0f6f-46b1-4430-92bc-a6e144be8bf9",
   "metadata": {},
   "outputs": [],
   "source": [
    "# Définition répertoire de travail\n",
    "repertoire=r\"C:\\Users\\berna\\Documents\\Portfolio\\data\"\n",
    "os.chdir(repertoire)"
   ]
  },
  {
   "cell_type": "code",
   "execution_count": 63,
   "id": "6412e1f0-883d-4528-be28-c5aca978bc90",
   "metadata": {},
   "outputs": [
    {
     "data": {
      "text/html": [
       "<div>\n",
       "<style scoped>\n",
       "    .dataframe tbody tr th:only-of-type {\n",
       "        vertical-align: middle;\n",
       "    }\n",
       "\n",
       "    .dataframe tbody tr th {\n",
       "        vertical-align: top;\n",
       "    }\n",
       "\n",
       "    .dataframe thead th {\n",
       "        text-align: right;\n",
       "    }\n",
       "</style>\n",
       "<table border=\"1\" class=\"dataframe\">\n",
       "  <thead>\n",
       "    <tr style=\"text-align: right;\">\n",
       "      <th></th>\n",
       "      <th>Client_ID</th>\n",
       "      <th>Age</th>\n",
       "      <th>Sexe</th>\n",
       "      <th>Revenu_Annuel</th>\n",
       "      <th>Fréquence_Achat</th>\n",
       "      <th>Montant_Total_Dépensé</th>\n",
       "      <th>Type_Produit_Principal</th>\n",
       "      <th>Durée_Client</th>\n",
       "      <th>Visites_Mensuelles</th>\n",
       "      <th>Panier_Moyen</th>\n",
       "      <th>Reduction_Utilisee</th>\n",
       "      <th>Satisfaction_Client</th>\n",
       "    </tr>\n",
       "  </thead>\n",
       "  <tbody>\n",
       "    <tr>\n",
       "      <th>0</th>\n",
       "      <td>1</td>\n",
       "      <td>56</td>\n",
       "      <td>Homme</td>\n",
       "      <td>102421.0</td>\n",
       "      <td>23</td>\n",
       "      <td>9260.71</td>\n",
       "      <td>Alimentation</td>\n",
       "      <td>7</td>\n",
       "      <td>19</td>\n",
       "      <td>433.19</td>\n",
       "      <td>Non</td>\n",
       "      <td>6.0</td>\n",
       "    </tr>\n",
       "    <tr>\n",
       "      <th>1</th>\n",
       "      <td>2</td>\n",
       "      <td>69</td>\n",
       "      <td>Femme</td>\n",
       "      <td>112244.0</td>\n",
       "      <td>21</td>\n",
       "      <td>2408.75</td>\n",
       "      <td>Vêtements</td>\n",
       "      <td>12</td>\n",
       "      <td>2</td>\n",
       "      <td>222.39</td>\n",
       "      <td>Non</td>\n",
       "      <td>4.0</td>\n",
       "    </tr>\n",
       "    <tr>\n",
       "      <th>2</th>\n",
       "      <td>3</td>\n",
       "      <td>46</td>\n",
       "      <td>Femme</td>\n",
       "      <td>85584.0</td>\n",
       "      <td>21</td>\n",
       "      <td>13491.06</td>\n",
       "      <td>Sport</td>\n",
       "      <td>6</td>\n",
       "      <td>12</td>\n",
       "      <td>182.76</td>\n",
       "      <td>Non</td>\n",
       "      <td>3.0</td>\n",
       "    </tr>\n",
       "    <tr>\n",
       "      <th>3</th>\n",
       "      <td>4</td>\n",
       "      <td>32</td>\n",
       "      <td>Homme</td>\n",
       "      <td>39950.0</td>\n",
       "      <td>11</td>\n",
       "      <td>8705.70</td>\n",
       "      <td>Maison</td>\n",
       "      <td>13</td>\n",
       "      <td>12</td>\n",
       "      <td>309.69</td>\n",
       "      <td>Oui</td>\n",
       "      <td>1.0</td>\n",
       "    </tr>\n",
       "    <tr>\n",
       "      <th>4</th>\n",
       "      <td>5</td>\n",
       "      <td>60</td>\n",
       "      <td>Homme</td>\n",
       "      <td>35173.0</td>\n",
       "      <td>7</td>\n",
       "      <td>16353.67</td>\n",
       "      <td>Electronique</td>\n",
       "      <td>11</td>\n",
       "      <td>8</td>\n",
       "      <td>125.31</td>\n",
       "      <td>Non</td>\n",
       "      <td>6.0</td>\n",
       "    </tr>\n",
       "  </tbody>\n",
       "</table>\n",
       "</div>"
      ],
      "text/plain": [
       "   Client_ID  Age   Sexe  Revenu_Annuel  Fréquence_Achat  \\\n",
       "0          1   56  Homme       102421.0               23   \n",
       "1          2   69  Femme       112244.0               21   \n",
       "2          3   46  Femme        85584.0               21   \n",
       "3          4   32  Homme        39950.0               11   \n",
       "4          5   60  Homme        35173.0                7   \n",
       "\n",
       "   Montant_Total_Dépensé Type_Produit_Principal  Durée_Client  \\\n",
       "0                9260.71           Alimentation             7   \n",
       "1                2408.75              Vêtements            12   \n",
       "2               13491.06                  Sport             6   \n",
       "3                8705.70                 Maison            13   \n",
       "4               16353.67           Electronique            11   \n",
       "\n",
       "   Visites_Mensuelles  Panier_Moyen Reduction_Utilisee  Satisfaction_Client  \n",
       "0                  19        433.19                Non                  6.0  \n",
       "1                   2        222.39                Non                  4.0  \n",
       "2                  12        182.76                Non                  3.0  \n",
       "3                  12        309.69                Oui                  1.0  \n",
       "4                   8        125.31                Non                  6.0  "
      ]
     },
     "execution_count": 63,
     "metadata": {},
     "output_type": "execute_result"
    }
   ],
   "source": [
    "# Importation de la dataset\n",
    "Base=pd.read_csv(\"E_commerce_data.csv\")\n",
    "Base.head()"
   ]
  },
  {
   "cell_type": "markdown",
   "id": "d3098353-7e72-457d-b1a9-ab2883ecc8b5",
   "metadata": {},
   "source": [
    "##### Présentation de la base de données"
   ]
  },
  {
   "cell_type": "code",
   "execution_count": 9,
   "id": "a4842791-6a88-4c0d-b901-4c091d659637",
   "metadata": {},
   "outputs": [
    {
     "name": "stdout",
     "output_type": "stream",
     "text": [
      "<class 'pandas.core.frame.DataFrame'>\n",
      "RangeIndex: 5050 entries, 0 to 5049\n",
      "Data columns (total 12 columns):\n",
      " #   Column                  Non-Null Count  Dtype  \n",
      "---  ------                  --------------  -----  \n",
      " 0   Client_ID               5050 non-null   int64  \n",
      " 1   Age                     5050 non-null   int64  \n",
      " 2   Sexe                    5050 non-null   object \n",
      " 3   Revenu_Annuel           4947 non-null   float64\n",
      " 4   Fréquence_Achat         5050 non-null   int64  \n",
      " 5   Montant_Total_Dépensé   5050 non-null   float64\n",
      " 6   Type_Produit_Principal  5050 non-null   object \n",
      " 7   Durée_Client            5050 non-null   int64  \n",
      " 8   Visites_Mensuelles      5050 non-null   int64  \n",
      " 9   Panier_Moyen            5050 non-null   float64\n",
      " 10  Reduction_Utilisee      5050 non-null   object \n",
      " 11  Satisfaction_Client     4950 non-null   float64\n",
      "dtypes: float64(4), int64(5), object(3)\n",
      "memory usage: 473.6+ KB\n"
     ]
    }
   ],
   "source": [
    "Base.info()"
   ]
  },
  {
   "cell_type": "markdown",
   "id": "1c8021f0-4406-4891-8739-784458b9910f",
   "metadata": {},
   "source": [
    "La base contient 5050 observations et 11 variables:\n",
    "- Client_ID : Identifiant unique pour chaque client.\n",
    "- Age : Âge du client.\n",
    "- Sexe : Sexe du client.\n",
    "- Revenu_Annuel : Revenu annuel estimé du client en dollars.\n",
    "- Fréquence_Achat : Nombre d'achats effectués au cours des 12 derniers mois.\n",
    "- Montant_Total_Dépensé : Montant total dépensé par le client sur la plateforme au cours des 12 derniers mois (en dollars).\n",
    "- Type_Produit_Principal : Catégorie principale des produits achetés (électronique, vêtements, alimentation, etc.).\n",
    "- Durée_Client : Nombre d'années depuis que le client est inscrit sur la plateforme.\n",
    "- Visites_Mensuelles : Nombre moyen de visites par mois.\n",
    "- Panier_Moyen : Valeur moyenne des paniers par visite.\n",
    "- Réduction_Utilisée : Indique si le client utilise souvent des coupons de réduction (Oui/Non).\n",
    "- Satisfaction_Client : Note de satisfaction du client sur une échelle de 1 à 10.\n",
    "  \n",
    "Toutes les variables sont définis dans le bon type"
   ]
  },
  {
   "cell_type": "code",
   "execution_count": 65,
   "id": "963a8c46-390f-47b1-bb78-2540cd20bd5c",
   "metadata": {},
   "outputs": [
    {
     "name": "stdout",
     "output_type": "stream",
     "text": [
      "Avant, il y  avait  2 colonnes avec des valeurs manquantes :\n",
      "Revenu_Annuel          103\n",
      "Satisfaction_Client    100\n",
      "dtype: int64\n",
      "Maintenant, il y a  0 colonne avec des valeurs manquantes. Et la base contient: 4950 observations\n"
     ]
    }
   ],
   "source": [
    "# Gestion de valeurs manquantes\n",
    "\n",
    "# Afficher les valeurs manquantes\n",
    "valeurs_manquantes=Base.isna().sum()\n",
    "valeurs_manquantes=valeurs_manquantes[valeurs_manquantes>0]\n",
    "print(\"Avant, il y  avait \",len(valeurs_manquantes), \"colonnes avec des valeurs manquantes :\")\n",
    "print(valeurs_manquantes)\n",
    "\n",
    "#Imputation du revenu annel moyen aux valeurs manquantes pour la variable  Revenu_Annuel\n",
    "Base['Revenu_Annuel']=Base['Revenu_Annuel'].fillna(Base['Revenu_Annuel'].mean())\n",
    "\n",
    "# Supression des lignes ayant des valeurs manquantes pour la variable Satisfaction_Client\n",
    "Base.dropna(subset=['Satisfaction_Client'],inplace=True)\n",
    "\n",
    "# Vérification finale\n",
    "valeurs_manquantes=Base.isna().sum()\n",
    "valeurs_manquantes=valeurs_manquantes[valeurs_manquantes>0]\n",
    "print(\"Maintenant, il y a \",len(valeurs_manquantes), \"colonne avec des valeurs manquantes. Et la base contient:\",len(Base),\"observations maintenant.\")"
   ]
  },
  {
   "cell_type": "code",
   "execution_count": 67,
   "id": "fc81a2a8-64e5-4ba9-8b59-83d44bcb1024",
   "metadata": {},
   "outputs": [
    {
     "name": "stdout",
     "output_type": "stream",
     "text": [
      "Avant, il y avait  48 ligne(s) dupliquées\n",
      "Maintenant, il y a  0 ligne dupliquée\n",
      "Avant, il y avait 47 doublons au niveau des identifiants des clients\n",
      "Maintenant, il y a 0 doublon au niveau des identifiants des clients\n",
      "la base contient maintenant 4855 observations\n"
     ]
    }
   ],
   "source": [
    "# Gestion de doublons\n",
    "\n",
    "# Vérification des lignes dupliquées\n",
    "doublons=Base.duplicated().sum()\n",
    "print(\"Avant, il y avait \", doublons, \"ligne(s) dupliquées\")\n",
    "# Suppression de ligne dupliquées\n",
    "Base.drop_duplicates(inplace=True)\n",
    "doublons=Base.duplicated().sum()\n",
    "print(\"Maintenant, il y a \", doublons, \"ligne dupliquée\")\n",
    "# Vérification de duplication pour la colonne Client_ID\n",
    "doublons_ID=Base.duplicated(['Client_ID']).sum()\n",
    "print('Avant, il y avait',doublons_ID, 'doublons au niveau des identifiants des clients')\n",
    "# Supressions des doublons pour la colonne Client_ID\n",
    "Base.drop_duplicates(['Client_ID'],inplace=True)\n",
    "doublons_ID=Base.duplicated(['Client_ID']).sum()\n",
    "print('Maintenant, il y a',doublons_ID, 'doublon au niveau des identifiants des clients')\n",
    "print('la base contient maintenant',len(Base), 'observations')"
   ]
  },
  {
   "cell_type": "code",
   "execution_count": 69,
   "id": "b6be5ec5-915a-4a15-ac62-2c442c7cdad6",
   "metadata": {},
   "outputs": [
    {
     "name": "stdout",
     "output_type": "stream",
     "text": [
      "Index(['Age', 'Sexe', 'Revenu_Annuel', 'Fréquence_Achat',\n",
      "       'Montant_Total_Dépensé', 'Type_Produit_Principal', 'Durée_Client',\n",
      "       'Visites_Mensuelles', 'Panier_Moyen', 'Reduction_Utilisee',\n",
      "       'Satisfaction_Client'],\n",
      "      dtype='object')\n"
     ]
    }
   ],
   "source": [
    "# suppression de colonne non pertinente\n",
    "# Nous n'avons pas besoin de la colonne Client_ID, elle n'est pas pertinente pour notre analyse. Nous allons donc l'enlever de la base\n",
    "Base.drop(columns=\"Client_ID\",inplace=True)\n",
    "print(Base.columns)"
   ]
  },
  {
   "cell_type": "markdown",
   "id": "81ae7624-b9bb-4104-aa23-4da1e0a29c4a",
   "metadata": {},
   "source": [
    "#### **2- Analyse Exploratoire des données**"
   ]
  },
  {
   "cell_type": "markdown",
   "id": "3165ee99-285c-44c0-ac27-1b148e977c92",
   "metadata": {},
   "source": [
    "##### Description des variables numériques"
   ]
  },
  {
   "cell_type": "code",
   "execution_count": 37,
   "id": "db1ebd9f-65cf-4306-adf0-a0c35637e3ae",
   "metadata": {},
   "outputs": [
    {
     "data": {
      "text/html": [
       "<div>\n",
       "<style scoped>\n",
       "    .dataframe tbody tr th:only-of-type {\n",
       "        vertical-align: middle;\n",
       "    }\n",
       "\n",
       "    .dataframe tbody tr th {\n",
       "        vertical-align: top;\n",
       "    }\n",
       "\n",
       "    .dataframe thead th {\n",
       "        text-align: right;\n",
       "    }\n",
       "</style>\n",
       "<table border=\"1\" class=\"dataframe\">\n",
       "  <thead>\n",
       "    <tr style=\"text-align: right;\">\n",
       "      <th></th>\n",
       "      <th>Age</th>\n",
       "      <th>Revenu_Annuel</th>\n",
       "      <th>Fréquence_Achat</th>\n",
       "      <th>Montant_Total_Dépensé</th>\n",
       "      <th>Durée_Client</th>\n",
       "      <th>Visites_Mensuelles</th>\n",
       "      <th>Panier_Moyen</th>\n",
       "      <th>Satisfaction_Client</th>\n",
       "    </tr>\n",
       "  </thead>\n",
       "  <tbody>\n",
       "    <tr>\n",
       "      <th>count</th>\n",
       "      <td>5000.000000</td>\n",
       "      <td>5000.000000</td>\n",
       "      <td>5000.000000</td>\n",
       "      <td>5000.000000</td>\n",
       "      <td>5000.000000</td>\n",
       "      <td>5000.000000</td>\n",
       "      <td>5000.000000</td>\n",
       "      <td>5000.000000</td>\n",
       "    </tr>\n",
       "    <tr>\n",
       "      <th>mean</th>\n",
       "      <td>43.600000</td>\n",
       "      <td>85281.368800</td>\n",
       "      <td>15.122600</td>\n",
       "      <td>10042.801048</td>\n",
       "      <td>7.629000</td>\n",
       "      <td>10.036600</td>\n",
       "      <td>259.307100</td>\n",
       "      <td>5.547600</td>\n",
       "    </tr>\n",
       "    <tr>\n",
       "      <th>std</th>\n",
       "      <td>14.885789</td>\n",
       "      <td>37788.681861</td>\n",
       "      <td>8.229892</td>\n",
       "      <td>5790.841244</td>\n",
       "      <td>3.973678</td>\n",
       "      <td>5.427481</td>\n",
       "      <td>138.463748</td>\n",
       "      <td>2.861079</td>\n",
       "    </tr>\n",
       "    <tr>\n",
       "      <th>min</th>\n",
       "      <td>18.000000</td>\n",
       "      <td>20002.000000</td>\n",
       "      <td>1.000000</td>\n",
       "      <td>103.140000</td>\n",
       "      <td>1.000000</td>\n",
       "      <td>1.000000</td>\n",
       "      <td>20.000000</td>\n",
       "      <td>1.000000</td>\n",
       "    </tr>\n",
       "    <tr>\n",
       "      <th>25%</th>\n",
       "      <td>31.000000</td>\n",
       "      <td>52470.750000</td>\n",
       "      <td>8.000000</td>\n",
       "      <td>4971.722500</td>\n",
       "      <td>4.000000</td>\n",
       "      <td>5.000000</td>\n",
       "      <td>137.400000</td>\n",
       "      <td>3.000000</td>\n",
       "    </tr>\n",
       "    <tr>\n",
       "      <th>50%</th>\n",
       "      <td>43.000000</td>\n",
       "      <td>85567.500000</td>\n",
       "      <td>15.000000</td>\n",
       "      <td>10013.085000</td>\n",
       "      <td>8.000000</td>\n",
       "      <td>10.000000</td>\n",
       "      <td>260.315000</td>\n",
       "      <td>6.000000</td>\n",
       "    </tr>\n",
       "    <tr>\n",
       "      <th>75%</th>\n",
       "      <td>57.000000</td>\n",
       "      <td>118042.750000</td>\n",
       "      <td>22.000000</td>\n",
       "      <td>15174.122500</td>\n",
       "      <td>11.000000</td>\n",
       "      <td>15.000000</td>\n",
       "      <td>376.302500</td>\n",
       "      <td>8.000000</td>\n",
       "    </tr>\n",
       "    <tr>\n",
       "      <th>max</th>\n",
       "      <td>69.000000</td>\n",
       "      <td>149994.000000</td>\n",
       "      <td>29.000000</td>\n",
       "      <td>19998.500000</td>\n",
       "      <td>14.000000</td>\n",
       "      <td>19.000000</td>\n",
       "      <td>499.900000</td>\n",
       "      <td>10.000000</td>\n",
       "    </tr>\n",
       "  </tbody>\n",
       "</table>\n",
       "</div>"
      ],
      "text/plain": [
       "               Age  Revenu_Annuel  Fréquence_Achat  Montant_Total_Dépensé  \\\n",
       "count  5000.000000    5000.000000      5000.000000            5000.000000   \n",
       "mean     43.600000   85281.368800        15.122600           10042.801048   \n",
       "std      14.885789   37788.681861         8.229892            5790.841244   \n",
       "min      18.000000   20002.000000         1.000000             103.140000   \n",
       "25%      31.000000   52470.750000         8.000000            4971.722500   \n",
       "50%      43.000000   85567.500000        15.000000           10013.085000   \n",
       "75%      57.000000  118042.750000        22.000000           15174.122500   \n",
       "max      69.000000  149994.000000        29.000000           19998.500000   \n",
       "\n",
       "       Durée_Client  Visites_Mensuelles  Panier_Moyen  Satisfaction_Client  \n",
       "count   5000.000000         5000.000000   5000.000000          5000.000000  \n",
       "mean       7.629000           10.036600    259.307100             5.547600  \n",
       "std        3.973678            5.427481    138.463748             2.861079  \n",
       "min        1.000000            1.000000     20.000000             1.000000  \n",
       "25%        4.000000            5.000000    137.400000             3.000000  \n",
       "50%        8.000000           10.000000    260.315000             6.000000  \n",
       "75%       11.000000           15.000000    376.302500             8.000000  \n",
       "max       14.000000           19.000000    499.900000            10.000000  "
      ]
     },
     "execution_count": 37,
     "metadata": {},
     "output_type": "execute_result"
    }
   ],
   "source": [
    "Base.describe()"
   ]
  },
  {
   "cell_type": "markdown",
   "id": "a035a953-3b62-452b-bb03-9d6f2f60592b",
   "metadata": {},
   "source": [
    "- Âge : L'age moyen des clients est de 43,6 ans, l'age minimum etant 18 et le maximum 69.\n",
    "- Revenu Annuel : Le revenu annuel moyen est de 85 281,37, avec des valeurs s'étendant de 20 002 à 149 994.\n",
    "- Fréquence Achat : La fréquence moyenne d'achat est de 15 achats par client, avec une majorité des clients faisant entre 8 et 22 achats.\n",
    "- Montant Total Dépensé : En moyenne, chaque client a dépensé 10 042,80, avec un écart important allant de 103 à 19 998.\n",
    "- Durée Client : La durée moyenne de fidélité des clients est de 7,63 ans, avec un minimum d'un an et un maximum de 14 ans.\n",
    "- Visites Mensuelles : Les clients effectuent en moyenne 10 visites mensuelles, avec une majorité visitant entre 5 et 15 fois.\n",
    "- Panier Moyen : Le montant moyen par panier est de 259,31, avec une dispersion notable allant de 20 à 499.\n",
    "- Satisfaction Client : La satisfaction moyenne est de 5,55 sur 10, avec des clients ayant une satisfaction variant entre 1 et 10."
   ]
  },
  {
   "cell_type": "markdown",
   "id": "06457aa2-46b6-462a-b412-bd0c1b2e26eb",
   "metadata": {},
   "source": [
    "##### Description des variables catégorielles"
   ]
  },
  {
   "cell_type": "code",
   "execution_count": 87,
   "id": "0f265696-bfd9-46bb-9857-b25a4911c0b5",
   "metadata": {},
   "outputs": [
    {
     "name": "stdout",
     "output_type": "stream",
     "text": [
      "Sexe\n",
      "Femme    2438\n",
      "Homme    2397\n",
      "Homne      20\n",
      "Name: count, dtype: int64\n",
      " \n",
      "Type_Produit_Principal\n",
      "Sport           857\n",
      "Vêtements       817\n",
      "Maison          795\n",
      "Beauté          795\n",
      "Alimentation    792\n",
      "Electronique    780\n",
      "Electro          19\n",
      "Name: count, dtype: int64\n",
      " \n",
      "Reduction_Utilisee\n",
      "Non    2493\n",
      "Oui    2362\n",
      "Name: count, dtype: int64\n",
      " \n"
     ]
    }
   ],
   "source": [
    "# Extraction des variables catégorielles de la base \n",
    "categorical_columns = Base.select_dtypes(include=['object', 'category']).columns.tolist()\n",
    "# Création de tableau de fréquence pour les variables catégorielles\n",
    "for col in categorical_columns:\n",
    "    print(Base[col].value_counts())\n",
    "    print(\" \")"
   ]
  },
  {
   "cell_type": "markdown",
   "id": "68d0290d-1b62-40b8-8c7f-ba61960f2bde",
   "metadata": {},
   "source": [
    "Nous remarquons qu'i y a des erreurs de saisie dans les modalités de la variable Sexe et de la variable Type_Produit_Principal.\n",
    "Nous allons corriger cela."
   ]
  },
  {
   "cell_type": "code",
   "execution_count": 93,
   "id": "bfe05e69-0720-4277-b28e-376fb6d6716b",
   "metadata": {},
   "outputs": [
    {
     "name": "stdout",
     "output_type": "stream",
     "text": [
      "Sexe\n",
      "Femme    2438\n",
      "Homme    2417\n",
      "Name: count, dtype: int64\n",
      " \n",
      "Type_Produit_Principal\n",
      "Sport           857\n",
      "Vêtements       817\n",
      "Electronique    799\n",
      "Maison          795\n",
      "Beauté          795\n",
      "Alimentation    792\n",
      "Name: count, dtype: int64\n"
     ]
    }
   ],
   "source": [
    "# Correction pour la variable Sexe\n",
    "Base['Sexe'] = Base['Sexe'].replace({'Homne': 'Homme'})\n",
    "\n",
    "# Correction pour la variable Sexe\n",
    "Base['Type_Produit_Principal'] = Base['Type_Produit_Principal'].replace({'Electro': 'Electronique'})\n",
    "\n",
    "# Vérification\n",
    "print(Base['Sexe'].value_counts())\n",
    "print(\" \")\n",
    "print(Base['Type_Produit_Principal'].value_counts())"
   ]
  },
  {
   "cell_type": "code",
   "execution_count": 95,
   "id": "e90b9ebb-0d7a-46ae-a217-86be052835d0",
   "metadata": {},
   "outputs": [
    {
     "data": {
      "image/png": "[encoded data removed]",
      "text/plain": [
       "<Figure size 400x400 with 1 Axes>"
      ]
     },
     "metadata": {},
     "output_type": "display_data"
    },
    {
     "data": {
      "image/png": "[encoded data removed]",
      "text/plain": [
       "<Figure size 400x400 with 1 Axes>"
      ]
     },
     "metadata": {},
     "output_type": "display_data"
    },
    {
     "data": {
      "image/png": "[encoded data removed]",
      "text/plain": [
       "<Figure size 400x400 with 1 Axes>"
      ]
     },
     "metadata": {},
     "output_type": "display_data"
    }
   ],
   "source": [
    "# Parcourir la liste des variables catégorielles et créer un camembert pour chacune d'elles\n",
    "for col in categorical_columns:\n",
    "    # Compter les occurrences de chaque catégorie\n",
    "    counts = Base[col].value_counts()\n",
    "    \n",
    "    # Créer un camembert (pie chart)\n",
    "    plt.figure(figsize=(4, 4))\n",
    "    plt.pie(counts, labels=counts.index, autopct='%1.1f%%', startangle=90)\n",
    "    plt.title(f\"Représentation graphique de la variable {col}\")\n",
    "    plt.axis('equal')  \n",
    "    plt.show()"
   ]
  },
  {
   "cell_type": "markdown",
   "id": "bd3a9f85-55d1-49bb-aa55-efb0728f720f",
   "metadata": {},
   "source": [
    "- 50.2% des clients sont des femmes et 49.8% sont des hommes.\n",
    "- Les catégories Sport (17,7%) et Vêtements (16,8%) sont légèrement plus populaires que les autres types de produits.Les catégories Alimentation, Beauté, Maison, et Électronique représentent chacune environ 16% des achats.La répartition des types de produits est globalement bien équilibrée, sans qu'aucune catégorie ne domine clairement.\n",
    "- 51.3% des clients utilise souvent des coupons de réduction dans le magasin."
   ]
  },
  {
   "cell_type": "markdown",
   "id": "4e062d12-a1c7-4295-b4ed-98d56ce9e44f",
   "metadata": {},
   "source": [
    "#### **3- Feature Engineering**"
   ]
  },
  {
   "cell_type": "code",
   "execution_count": 157,
   "id": "3625ebf6-b313-4283-aee8-edb0d67cfeff",
   "metadata": {},
   "outputs": [],
   "source": [
    "# Identification automatique des colonnes numériques et catégorielles\n",
    "numeric_features = Base.select_dtypes(include=['int64', 'float64']).columns.tolist()\n",
    "categorical_features = Base.select_dtypes(include=['object', 'category']).columns.tolist()\n",
    "\n",
    "# Création du pipeline de transformation\n",
    "preprocessor = ColumnTransformer(\n",
    "    transformers=[\n",
    "        ('num', StandardScaler(), numeric_features),  # Standardisation des variables numériques\n",
    "        ('cat', OneHotEncoder(drop='first'), categorical_features)  # Encodage One-Hot pour les variables catégorielles\n",
    "    ])\n",
    "\n",
    "# Appliquer les transformations aux données\n",
    "Base_transformed = preprocessor.fit_transform(Base)\n",
    "\n",
    "# Obtenir les noms des colonnes numériques et encodées\n",
    "encoded_columns = preprocessor.named_transformers_['cat'].get_feature_names_out(categorical_features)\n",
    "all_columns = numeric_features + list(encoded_columns)\n",
    "\n",
    "# Convertir l'array NumPy en DataFrame avec les bonnes colonnes\n",
    "Base_transformed_df = pd.DataFrame(Base_transformed, columns=all_columns)\n"
   ]
  },
  {
   "cell_type": "markdown",
   "id": "2b02d15e-3aaa-43c9-a534-48443f89c169",
   "metadata": {},
   "source": [
    "#### **4-Clustering**"
   ]
  },
  {
   "cell_type": "markdown",
   "id": "e384a363-7321-4cec-bfef-4120ca1f924a",
   "metadata": {},
   "source": [
    "##### Choix du nombre de cluster avec Elbow Method"
   ]
  },
  {
   "cell_type": "code",
   "execution_count": 159,
   "id": "55b35355-360b-448a-bca9-aefb4ccbd560",
   "metadata": {},
   "outputs": [
    {
     "data": {
      "image/png": "[encoded data removed]",
      "text/plain": [
       "<Figure size 500x500 with 1 Axes>"
      ]
     },
     "metadata": {},
     "output_type": "display_data"
    }
   ],
   "source": [
    "inertias = []\n",
    "\n",
    "# Appliquer K-means pour différentes valeurs de K \n",
    "K_range = range(1, 8)\n",
    "for K in K_range:\n",
    "    # Appliquer K-means avec K clusters\n",
    "    centroids, distortion = kmeans(Base_transformed, K)\n",
    "    # Calculer l'inertie \n",
    "    inertias.append(distortion)\n",
    "\n",
    "# Tracer la méthode du coude\n",
    "plt.figure(figsize=(5, 5))\n",
    "plt.plot(K_range, inertias, 'bo-', markersize=8)\n",
    "plt.xlabel('Nombre de clusters (K)')\n",
    "plt.ylabel('Inertie (Distortion)')\n",
    "plt.title('Méthode du coude pour déterminer le K optimal')\n",
    "plt.show()"
   ]
  },
  {
   "cell_type": "markdown",
   "id": "d0d427ba-4fa4-4c6b-9113-3c28927f0ded",
   "metadata": {},
   "source": [
    "En considérant le graphique nous chosisons k=3"
   ]
  },
  {
   "cell_type": "markdown",
   "id": "64d3ccb1-8b77-4c04-8fff-717eb15ebc35",
   "metadata": {},
   "source": [
    "##### Création des clusters avec kmeans (k=3)"
   ]
  },
  {
   "cell_type": "code",
   "execution_count": 162,
   "id": "4ae4e64e-403e-4aee-98d4-191f710ede73",
   "metadata": {},
   "outputs": [
    {
     "data": {
      "text/html": [
       "<div>\n",
       "<style scoped>\n",
       "    .dataframe tbody tr th:only-of-type {\n",
       "        vertical-align: middle;\n",
       "    }\n",
       "\n",
       "    .dataframe tbody tr th {\n",
       "        vertical-align: top;\n",
       "    }\n",
       "\n",
       "    .dataframe thead th {\n",
       "        text-align: right;\n",
       "    }\n",
       "</style>\n",
       "<table border=\"1\" class=\"dataframe\">\n",
       "  <thead>\n",
       "    <tr style=\"text-align: right;\">\n",
       "      <th></th>\n",
       "      <th>Age</th>\n",
       "      <th>Revenu_Annuel</th>\n",
       "      <th>Fréquence_Achat</th>\n",
       "      <th>Montant_Total_Dépensé</th>\n",
       "      <th>Durée_Client</th>\n",
       "      <th>Visites_Mensuelles</th>\n",
       "      <th>Panier_Moyen</th>\n",
       "      <th>Satisfaction_Client</th>\n",
       "      <th>Sexe_Homme</th>\n",
       "      <th>Type_Produit_Principal_Beauté</th>\n",
       "      <th>Type_Produit_Principal_Electronique</th>\n",
       "      <th>Type_Produit_Principal_Maison</th>\n",
       "      <th>Type_Produit_Principal_Sport</th>\n",
       "      <th>Type_Produit_Principal_Vêtements</th>\n",
       "      <th>Reduction_Utilisee_Oui</th>\n",
       "      <th>Cluster</th>\n",
       "    </tr>\n",
       "  </thead>\n",
       "  <tbody>\n",
       "    <tr>\n",
       "      <th>0</th>\n",
       "      <td>0.826844</td>\n",
       "      <td>0.463707</td>\n",
       "      <td>0.946697</td>\n",
       "      <td>-0.267345</td>\n",
       "      <td>-0.136753</td>\n",
       "      <td>1.644047</td>\n",
       "      <td>1.278750</td>\n",
       "      <td>0.169709</td>\n",
       "      <td>1.0</td>\n",
       "      <td>0.0</td>\n",
       "      <td>0.0</td>\n",
       "      <td>0.0</td>\n",
       "      <td>0.0</td>\n",
       "      <td>0.0</td>\n",
       "      <td>0.0</td>\n",
       "      <td>0</td>\n",
       "    </tr>\n",
       "    <tr>\n",
       "      <th>1</th>\n",
       "      <td>1.698432</td>\n",
       "      <td>0.726340</td>\n",
       "      <td>0.704377</td>\n",
       "      <td>-0.492757</td>\n",
       "      <td>1.109369</td>\n",
       "      <td>-1.501764</td>\n",
       "      <td>-0.249632</td>\n",
       "      <td>-0.530026</td>\n",
       "      <td>0.0</td>\n",
       "      <td>0.0</td>\n",
       "      <td>0.0</td>\n",
       "      <td>0.0</td>\n",
       "      <td>0.0</td>\n",
       "      <td>1.0</td>\n",
       "      <td>0.0</td>\n",
       "      <td>1</td>\n",
       "    </tr>\n",
       "    <tr>\n",
       "      <th>2</th>\n",
       "      <td>0.156393</td>\n",
       "      <td>0.013546</td>\n",
       "      <td>0.704377</td>\n",
       "      <td>-0.128178</td>\n",
       "      <td>-0.385977</td>\n",
       "      <td>0.348713</td>\n",
       "      <td>-0.536965</td>\n",
       "      <td>-0.879893</td>\n",
       "      <td>0.0</td>\n",
       "      <td>0.0</td>\n",
       "      <td>0.0</td>\n",
       "      <td>0.0</td>\n",
       "      <td>1.0</td>\n",
       "      <td>0.0</td>\n",
       "      <td>0.0</td>\n",
       "      <td>1</td>\n",
       "    </tr>\n",
       "    <tr>\n",
       "      <th>3</th>\n",
       "      <td>-0.782240</td>\n",
       "      <td>-1.206545</td>\n",
       "      <td>-0.507226</td>\n",
       "      <td>-0.285604</td>\n",
       "      <td>1.358594</td>\n",
       "      <td>0.348713</td>\n",
       "      <td>0.383327</td>\n",
       "      <td>-1.579629</td>\n",
       "      <td>1.0</td>\n",
       "      <td>0.0</td>\n",
       "      <td>0.0</td>\n",
       "      <td>1.0</td>\n",
       "      <td>0.0</td>\n",
       "      <td>0.0</td>\n",
       "      <td>1.0</td>\n",
       "      <td>1</td>\n",
       "    </tr>\n",
       "    <tr>\n",
       "      <th>4</th>\n",
       "      <td>1.095025</td>\n",
       "      <td>-1.334265</td>\n",
       "      <td>-0.991867</td>\n",
       "      <td>-0.034005</td>\n",
       "      <td>0.860145</td>\n",
       "      <td>-0.391478</td>\n",
       "      <td>-0.953499</td>\n",
       "      <td>0.169709</td>\n",
       "      <td>1.0</td>\n",
       "      <td>0.0</td>\n",
       "      <td>1.0</td>\n",
       "      <td>0.0</td>\n",
       "      <td>0.0</td>\n",
       "      <td>0.0</td>\n",
       "      <td>0.0</td>\n",
       "      <td>0</td>\n",
       "    </tr>\n",
       "  </tbody>\n",
       "</table>\n",
       "</div>"
      ],
      "text/plain": [
       "        Age  Revenu_Annuel  Fréquence_Achat  Montant_Total_Dépensé  \\\n",
       "0  0.826844       0.463707         0.946697              -0.267345   \n",
       "1  1.698432       0.726340         0.704377              -0.492757   \n",
       "2  0.156393       0.013546         0.704377              -0.128178   \n",
       "3 -0.782240      -1.206545        -0.507226              -0.285604   \n",
       "4  1.095025      -1.334265        -0.991867              -0.034005   \n",
       "\n",
       "   Durée_Client  Visites_Mensuelles  Panier_Moyen  Satisfaction_Client  \\\n",
       "0     -0.136753            1.644047      1.278750             0.169709   \n",
       "1      1.109369           -1.501764     -0.249632            -0.530026   \n",
       "2     -0.385977            0.348713     -0.536965            -0.879893   \n",
       "3      1.358594            0.348713      0.383327            -1.579629   \n",
       "4      0.860145           -0.391478     -0.953499             0.169709   \n",
       "\n",
       "   Sexe_Homme  Type_Produit_Principal_Beauté  \\\n",
       "0         1.0                            0.0   \n",
       "1         0.0                            0.0   \n",
       "2         0.0                            0.0   \n",
       "3         1.0                            0.0   \n",
       "4         1.0                            0.0   \n",
       "\n",
       "   Type_Produit_Principal_Electronique  Type_Produit_Principal_Maison  \\\n",
       "0                                  0.0                            0.0   \n",
       "1                                  0.0                            0.0   \n",
       "2                                  0.0                            0.0   \n",
       "3                                  0.0                            1.0   \n",
       "4                                  1.0                            0.0   \n",
       "\n",
       "   Type_Produit_Principal_Sport  Type_Produit_Principal_Vêtements  \\\n",
       "0                           0.0                               0.0   \n",
       "1                           0.0                               1.0   \n",
       "2                           1.0                               0.0   \n",
       "3                           0.0                               0.0   \n",
       "4                           0.0                               0.0   \n",
       "\n",
       "   Reduction_Utilisee_Oui  Cluster  \n",
       "0                     0.0        0  \n",
       "1                     0.0        1  \n",
       "2                     0.0        1  \n",
       "3                     1.0        1  \n",
       "4                     0.0        0  "
      ]
     },
     "execution_count": 162,
     "metadata": {},
     "output_type": "execute_result"
    }
   ],
   "source": [
    "# Appliquer K-means avec K=3 en utilisant SciPy\n",
    "centroids, distortion = kmeans(Base_transformed, 3)\n",
    "\n",
    "# Assigner chaque point de données à son cluster\n",
    "cluster_labels, _ = vq(Base_transformed, centroids)\n",
    "\n",
    "# Ajouter les clusters au DataFrame original\n",
    "Base_transformed_df['Cluster'] = cluster_labels\n",
    "Base_transformed_df.head()"
   ]
  },
  {
   "cell_type": "markdown",
   "id": "50015ff0-558a-40ba-a192-bc3de4f08e1a",
   "metadata": {},
   "source": [
    "##### Interprétation des résultats "
   ]
  },
  {
   "cell_type": "code",
   "execution_count": 168,
   "id": "067fd9c8-e296-4dfe-a7e1-be6ed9160d18",
   "metadata": {},
   "outputs": [
    {
     "name": "stdout",
     "output_type": "stream",
     "text": [
      "Moyennes des variables  par cluster :\n",
      "              Age  Revenu_Annuel  Fréquence_Achat  Montant_Total_Dépensé  \\\n",
      "Cluster                                                                    \n",
      "0        0.012030       0.090523         0.002411              -0.220072   \n",
      "1        0.008416       0.091274         0.017003              -0.223052   \n",
      "2       -0.178071      -1.580675        -0.167610               3.852749   \n",
      "\n",
      "         Durée_Client  Visites_Mensuelles  Panier_Moyen  Satisfaction_Client  \\\n",
      "Cluster                                                                        \n",
      "0            0.002004            0.007928      0.008528             0.868840   \n",
      "1           -0.006880           -0.007711     -0.005663            -0.874355   \n",
      "2            0.041669           -0.003158     -0.026070            -0.094017   \n",
      "\n",
      "         Sexe_Homme  Type_Produit_Principal_Beauté  \\\n",
      "Cluster                                              \n",
      "0          0.505826                       0.165732   \n",
      "1          0.492084                       0.163588   \n",
      "2          0.477273                       0.147727   \n",
      "\n",
      "         Type_Produit_Principal_Electronique  Type_Produit_Principal_Maison  \\\n",
      "Cluster                                                                       \n",
      "0                                   0.169616                       0.161416   \n",
      "1                                   0.160950                       0.164468   \n",
      "2                                   0.151515                       0.178030   \n",
      "\n",
      "         Type_Produit_Principal_Sport  Type_Produit_Principal_Vêtements  \\\n",
      "Cluster                                                                   \n",
      "0                            0.185153                          0.171774   \n",
      "1                            0.167106                          0.163149   \n",
      "2                            0.181818                          0.181818   \n",
      "\n",
      "         Reduction_Utilisee_Oui  \n",
      "Cluster                          \n",
      "0                      0.503237  \n",
      "1                      0.467458  \n",
      "2                      0.503788  \n"
     ]
    }
   ],
   "source": [
    "# Calculer les moyennes des variables  par cluster\n",
    "summary = Base_transformed_df.groupby('Cluster').mean()\n",
    "print(\"Moyennes des variables  par cluster :\")\n",
    "print(summary)"
   ]
  },
  {
   "cell_type": "markdown",
   "id": "fde453d4-7062-4f95-b5e5-4c45741d942e",
   "metadata": {},
   "source": [
    "- Cluster 0 : Des clients ayant des revenus moyens, dépensant modérément, et très satisfaits. Ils achètent davantage de produits électroniques et de   sport, et utilisent des réductions fréquemment.\n",
    "- Cluster 1 : Des clients avec des revenus moyens, mais peu satisfaits et utilisant moins de réductions. Ils achètent davantage de produits de maison et dépensent modérément.\n",
    "- Cluster 2 : Clients à faible revenu, mais avec des dépenses très élevées, un intérêt marqué pour les produits de maison et de vêtements, et une utilisation régulière des réductions."
   ]
  },
  {
   "cell_type": "markdown",
   "id": "e0e4396f-3d6e-41d4-9c9a-77f72407e5cd",
   "metadata": {},
   "source": [
    "**Implications pour la Segmentation**\n",
    "- Cluster 0 pourrait être ciblé avec des programmes de fidélisation pour renforcer encore leur satisfaction.\n",
    "- Cluster 1 nécessite une attention particulière pour comprendre les sources d'insatisfaction et potentiellement améliorer leur expérience.\n",
    "- Cluster 2 pourrait bénéficier d'offres spéciales ou de réductions pour optimiser leurs dépenses malgré un revenu limité."
   ]
  },
  {
   "cell_type": "code",
   "execution_count": null,
   "id": "c418a9a9-f3be-4e7f-8120-38fd10331e80",
   "metadata": {},
   "outputs": [],
   "source": []
  }
 ],
 "metadata": {
  "kernelspec": {
   "display_name": "Python 3 (ipykernel)",
   "language": "python",
   "name": "python3"
  },
  "language_info": {
   "codemirror_mode": {
    "name": "ipython",
    "version": 3
   },
   "file_extension": ".py",
   "mimetype": "text/x-python",
   "name": "python",
   "nbconvert_exporter": "python",
   "pygments_lexer": "ipython3",
   "version": "3.12.4"
  }
 },
 "nbformat": 4,
 "nbformat_minor": 5
}
